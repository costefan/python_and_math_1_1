{
 "cells": [
  {
   "cell_type": "code",
   "execution_count": 61,
   "metadata": {
    "collapsed": true
   },
   "outputs": [],
   "source": [
    "f = open('cats.txt', 'r')"
   ]
  },
  {
   "cell_type": "code",
   "execution_count": 62,
   "metadata": {
    "collapsed": false
   },
   "outputs": [
    {
     "name": "stdout",
     "output_type": "stream",
     "text": [
      "OrderedDict([('in', {0: 1, 16: 1, 3: 1, 4: 2, 6: 1, 9: 1, 10: 1, 12: 1, 13: 1, 20: 1}), ('comparison', {0: 1}), ('to', {0: 1, 1: 1, 2: 2, 6: 1, 8: 1, 9: 1, 11: 1, 14: 1, 16: 2, 17: 1, 20: 1, 21: 1}), ('dogs', {0: 1}), ('cats', {0: 1, 3: 1, 4: 1, 6: 1}), ('have', {0: 1, 15: 1}), ('not', {0: 1}), ('undergone', {0: 1}), ('major', {0: 1, 21: 1}), ('changes', {0: 1, 14: 1}), ('during', {0: 1}), ('the', {0: 1, 2: 1, 5: 1, 6: 2, 7: 1, 8: 2, 10: 2, 11: 1, 12: 2, 13: 1, 16: 1, 18: 1, 19: 2, 20: 1, 21: 1}), ('domestication', {0: 1}), ('process', {0: 1, 4: 1}), ('as', {1: 1, 3: 1, 4: 1, 17: 1, 13: 1, 15: 1}), ('cat', {1: 1, 2: 1, 19: 1, 5: 1, 7: 1, 8: 1, 9: 1, 10: 1, 11: 1, 12: 1}), ('simply', {1: 1, 12: 1}), ('catenates', {1: 1}), ('streams', {1: 1}), ('of', {1: 2, 2: 2, 4: 2, 6: 1, 8: 2, 9: 3, 10: 1, 13: 1, 15: 2, 17: 1, 18: 1, 21: 1}), ('bytes', {1: 2}), ('it', {1: 2, 12: 2}), ('can', {11: 1, 1: 1, 3: 1}), ('be', {16: 1, 1: 1, 11: 1}), ('also', {16: 1, 1: 1}), ('used', {1: 1}), ('concatenate', {1: 2}), ('binary', {1: 1}), ('files', {1: 1}), ('where', {8: 1, 1: 1}), ('will', {1: 1, 15: 1}), ('just', {8: 1, 1: 1, 12: 1}), ('sequence', {1: 1, 9: 1}), ('a', {17: 1, 2: 3, 19: 1, 4: 1, 21: 1, 8: 1, 9: 2, 11: 1, 18: 1, 20: 1}), ('common', {2: 1}), ('interactive', {2: 1}), ('use', {8: 1, 2: 1}), ('for', {17: 1, 2: 1, 3: 1, 18: 1}), ('single', {2: 1}), ('file', {8: 2, 2: 2, 11: 1}), ('is', {8: 2, 2: 1, 13: 1, 10: 1, 7: 2}), ('output', {2: 2, 7: 1}), ('content', {2: 1, 12: 1}), ('standard', {2: 1}), ('hear', {3: 1}), ('sounds', {3: 1}), ('too', {3: 2}), ('faint', {3: 1}), ('or', {3: 1, 20: 1, 7: 1}), ('high', {3: 1}), ('frequency', {3: 1}), ('human', {8: 1, 3: 1}), ('ears', {3: 1}), ('such', {3: 1, 21: 1}), ('those', {3: 1}), ('made', {3: 1}), ('by', {9: 1, 3: 1, 21: 1}), ('mice', {3: 1}), ('and', {16: 2, 17: 2, 18: 1, 3: 1, 5: 2, 6: 2, 9: 1, 12: 1, 13: 1, 14: 1}), ('other', {3: 1, 6: 1}), ('small', {18: 1, 3: 1}), ('animals', {3: 1}), ('one', {8: 2, 10: 1, 4: 1}), ('people', {4: 1}), ('deliberately', {4: 1}), ('tamed', {4: 1}), ('artificial', {4: 1}), ('selection', {4: 1}), ('they', {4: 1}), ('were', {8: 1, 4: 1}), ('useful', {4: 1}), ('predators', {4: 1}), ('vermin', {4: 1}), ('domesticated', {5: 1}), ('its', {5: 1, 14: 1}), ('closest', {5: 1}), ('wild', {5: 1}), ('ancestor', {5: 1}), ('are', {5: 1, 6: 1}), ('both', {5: 1}), ('diploid', {5: 1}), ('organisms', {5: 1}), ('that', {10: 1, 5: 1}), ('possess', {5: 1}), ('chromosomes', {5: 1}), ('roughly', {5: 1}), ('genes', {5: 1}), ('domestic', {6: 1}), ('similar', {6: 1}), ('size', {6: 1}), ('members', {6: 1}), ('genus', {6: 1}), ('felis', {6: 1}), ('typically', {6: 1}), ('weighing', {6: 1}), ('between', {6: 1}), ('kg', {6: 1}), ('lb', {6: 1}), ('however', {7: 1}), ('if', {7: 1}), ('piped', {7: 1}), ('redirected', {11: 1, 7: 1}), ('unnecessary', {7: 1}), ('with', {8: 1, 9: 1}), ('named', {8: 1}), ('safer', {8: 1}), ('error', {8: 1}), ('concern', {8: 1}), ('wrong', {8: 1}), ('default', {8: 1}), ('redirection', {8: 1, 11: 1}), ('symbol', {8: 1}), ('instead', {8: 1}), ('often', {8: 1}), ('adjacent', {8: 1}), ('on', {8: 1, 16: 1, 18: 1, 13: 1, 17: 1}), ('keyboards', {8: 1}), ('may', {8: 1}), ('permanently', {8: 1}), ('delete', {8: 1}), ('you', {8: 1, 20: 1, 10: 2, 12: 1}), ('needing', {8: 1}), ('read', {8: 1}), ('terms', {9: 1}), ('legibility', {9: 1}), ('commands', {9: 1, 10: 1}), ('starting', {9: 1}), ('connected', {9: 1}), ('pipes', {9: 1}), ('has', {16: 1, 9: 1, 18: 1, 19: 1}), ('clear', {9: 1}), ('left', {9: 1}), ('right', {9: 1}), ('flow', {9: 1}), ('information', {9: 1}), ('command', {10: 1, 11: 1, 12: 1}), ('basic', {10: 1}), ('learned', {10: 1}), ('when', {10: 1, 12: 1}), ('started', {10: 1}), ('unix', {10: 1}), ('linux', {10: 1}), ('world', {10: 1}), ('using', {16: 1, 11: 2}), ('lines', {11: 1}), ('received', {11: 1}), ('from', {11: 1}), ('stdin', {11: 1, 12: 1}), ('new', {19: 1, 11: 1}), ('symbols', {11: 1}), ('type', {12: 1}), ('without', {12: 1}), ('any', {12: 1}), ('arguments', {12: 1}), ('receives', {12: 1}), ('displays', {12: 1}), ('stdout', {12: 1}), ('leopard', {21: 1, 13: 1, 14: 1, 15: 1}), ('was', {17: 1, 13: 1}), ('released', {17: 1, 18: 1, 13: 1}), ('october', {13: 1}), ('successor', {13: 1}), ('tiger', {16: 1, 13: 1, 14: 1}), ('version', {13: 1}), ('available', {13: 1}), ('two', {13: 1}), ('editions', {13: 1}), ('according', {14: 1}), ('apple', {16: 2, 17: 1, 18: 1, 19: 1, 21: 1, 14: 1, 15: 1}), ('contains', {21: 1, 14: 1}), ('over', {14: 2}), ('enhancements', {14: 1}), ('predecessor', {14: 1}), ('mac', {16: 1, 17: 1, 20: 1, 21: 1, 14: 1, 15: 1}), ('os', {16: 1, 17: 2, 18: 1, 20: 1, 21: 1, 14: 1, 15: 1}), ('x', {16: 2, 17: 2, 18: 1, 20: 1, 21: 1, 14: 1, 15: 1}), ('mid', {15: 1}), ('some', {15: 1}), ('computers', {16: 2, 15: 1}), ('firmware', {15: 1}), ('factory', {15: 1}), ('installed', {16: 1, 15: 1}), ('which', {15: 1}), ('no', {15: 1}), ('longer', {15: 1}), ('allow', {15: 1}), ('installation', {20: 1, 15: 1}), ('since', {16: 1}), ('moved', {16: 1}), ('intel', {16: 1}), ('processors', {16: 1}), ('their', {16: 1}), ('osx', {16: 1}), ('community', {16: 1}), ('developed', {16: 1}), ('now', {16: 1}), ('allows', {16: 1}), ('later', {16: 1}), ('releases', {16: 1}), ('non', {16: 1}), ('based', {16: 1}), ('mountain', {17: 1, 18: 1, 19: 1, 20: 1, 21: 1}), ('lion', {17: 1, 18: 1, 19: 1, 20: 1}), ('july', {17: 1}), ('purchase', {17: 1}), ('download', {17: 1}), ('through', {17: 1}), ('s', {17: 1, 21: 1}), ('app', {17: 1}), ('store', {17: 1}), ('part', {17: 1}), ('switch', {17: 1}), ('releasing', {17: 1, 19: 1}), ('versions', {17: 1, 18: 1}), ('online', {17: 1}), ('every', {17: 1}), ('year', {17: 1}), ('patch', {18: 1}), ('three', {18: 1}), ('most', {18: 1}), ('recent', {18: 1}), ('safari', {18: 1}), ('running', {18: 1}), ('yosemite', {18: 1}), ('mavericks', {18: 1}), ('release', {19: 1}), ('marks', {19: 1}), ('second', {19: 1}), ('time', {19: 1}), ('offered', {19: 1}), ('an', {19: 1, 20: 1}), ('incremental', {19: 1}), ('upgrade', {19: 1}), ('rather', {19: 1}), ('than', {19: 1, 21: 1}), ('entirely', {19: 1}), ('installs', {20: 1}), ('place', {20: 1}), ('so', {20: 1}), ('won', {20: 1}), ('t', {20: 1}), ('need', {20: 1}), ('create', {20: 1}), ('separate', {20: 1}), ('disk', {20: 1}), ('run', {20: 1}), ('off', {20: 1}), ('external', {20: 1}), ('drive', {20: 1}), ('fifth', {21: 1}), ('update', {21: 1}), ('features', {21: 1}), ('more', {21: 1}), ('count', {21: 1})])\n"
     ]
    }
   ],
   "source": [
    "import re\n",
    "from collections import OrderedDict\n",
    "\n",
    "terms_dict = OrderedDict()\n",
    "\n",
    "\n",
    "for index, line in enumerate(f):\n",
    "    line = line.lower()\n",
    "    tokens = [token for token in re.split('[^a-z]', line) if token != \"\"]\n",
    "    for token in tokens:\n",
    "        if token not in terms_dict:\n",
    "            terms_dict[token] = {}\n",
    "            terms_dict[token][index] = 1\n",
    "        else: \n",
    "            if index in terms_dict[token]:  \n",
    "                terms_dict[token][index] += 1\n",
    "            else:\n",
    "                terms_dict[token][index] = 1\n",
    "        \n",
    "print(terms_dict)\n",
    "            "
   ]
  },
  {
   "cell_type": "code",
   "execution_count": 63,
   "metadata": {
    "collapsed": false
   },
   "outputs": [
    {
     "name": "stdout",
     "output_type": "stream",
     "text": [
      "254 22\n"
     ]
    }
   ],
   "source": [
    "import numpy as np\n",
    "print(len(terms_dict), index + 1)"
   ]
  },
  {
   "cell_type": "markdown",
   "metadata": {},
   "source": [
    "# Inserting zeros to the matrix"
   ]
  },
  {
   "cell_type": "code",
   "execution_count": 64,
   "metadata": {
    "collapsed": false
   },
   "outputs": [],
   "source": [
    "matrix = np.zeros((index + 1, len(terms_dict)))"
   ]
  },
  {
   "cell_type": "code",
   "execution_count": 65,
   "metadata": {
    "collapsed": false
   },
   "outputs": [],
   "source": [
    "index = 0\n",
    "for key, value in terms_dict.items():\n",
    "    for key2, value2 in value.items():\n",
    "        matrix[key2][index] = value2\n",
    "    index += 1"
   ]
  },
  {
   "cell_type": "code",
   "execution_count": 66,
   "metadata": {
    "collapsed": false
   },
   "outputs": [
    {
     "name": "stdout",
     "output_type": "stream",
     "text": [
      "[[ 1.  1.  1. ...,  0.  0.  0.]\n",
      " [ 0.  0.  1. ...,  0.  0.  0.]\n",
      " [ 0.  0.  2. ...,  0.  0.  0.]\n",
      " ..., \n",
      " [ 0.  0.  0. ...,  0.  0.  0.]\n",
      " [ 1.  0.  1. ...,  0.  0.  0.]\n",
      " [ 0.  0.  1. ...,  1.  1.  1.]] (22, 254)\n"
     ]
    }
   ],
   "source": [
    "print(matrix, matrix.shape)"
   ]
  },
  {
   "cell_type": "code",
   "execution_count": 100,
   "metadata": {
    "collapsed": false
   },
   "outputs": [
    {
     "name": "stdout",
     "output_type": "stream",
     "text": [
      "0.952754440874\n",
      "0.864473814564\n",
      "0.895171516328\n",
      "0.77708871497\n",
      "0.940238569533\n",
      "0.732738758088\n",
      "0.925875068334\n",
      "0.884272487528\n",
      "0.905508881748\n",
      "0.832816536227\n",
      "0.880477139067\n",
      "0.839643254853\n",
      "0.87035925529\n",
      "0.87401184233\n",
      "0.944272178742\n",
      "0.840636185422\n",
      "0.956644501524\n",
      "0.944272178742\n",
      "0.888544357485\n",
      "0.842757274492\n",
      "0.825036446944\n"
     ]
    },
    {
     "ename": "UnsupportedOperation",
     "evalue": "not writable",
     "output_type": "error",
     "traceback": [
      "\u001b[1;31m---------------------------------------------------------------------------\u001b[0m",
      "\u001b[1;31mUnsupportedOperation\u001b[0m                      Traceback (most recent call last)",
      "\u001b[1;32m<ipython-input-100-afefed53690b>\u001b[0m in \u001b[0;36m<module>\u001b[1;34m()\u001b[0m\n\u001b[0;32m      8\u001b[0m \u001b[1;33m\u001b[0m\u001b[0m\n\u001b[0;32m      9\u001b[0m \u001b[0m_sorted\u001b[0m \u001b[1;33m=\u001b[0m \u001b[0mcos_dist\u001b[0m\u001b[1;33m.\u001b[0m\u001b[0margsort\u001b[0m\u001b[1;33m(\u001b[0m\u001b[1;33m)\u001b[0m\u001b[1;33m[\u001b[0m\u001b[1;33m:\u001b[0m\u001b[1;33m:\u001b[0m\u001b[1;33m-\u001b[0m\u001b[1;36m1\u001b[0m\u001b[1;33m]\u001b[0m\u001b[1;33m[\u001b[0m\u001b[1;33m:\u001b[0m\u001b[1;36m2\u001b[0m\u001b[1;33m]\u001b[0m\u001b[1;33m\u001b[0m\u001b[0m\n\u001b[1;32m---> 10\u001b[1;33m \u001b[0mf\u001b[0m\u001b[1;33m.\u001b[0m\u001b[0mwrite\u001b[0m\u001b[1;33m(\u001b[0m\u001b[0mstr\u001b[0m\u001b[1;33m(\u001b[0m\u001b[0m_sorted\u001b[0m\u001b[1;33m[\u001b[0m\u001b[1;36m0\u001b[0m\u001b[1;33m]\u001b[0m\u001b[1;33m)\u001b[0m \u001b[1;33m+\u001b[0m \u001b[1;34m' '\u001b[0m \u001b[1;33m+\u001b[0m \u001b[0mstr\u001b[0m\u001b[1;33m(\u001b[0m\u001b[0m_sorted\u001b[0m\u001b[1;33m[\u001b[0m\u001b[1;36m1\u001b[0m\u001b[1;33m]\u001b[0m\u001b[1;33m)\u001b[0m \u001b[1;33m)\u001b[0m\u001b[1;33m\u001b[0m\u001b[0m\n\u001b[0m\u001b[0;32m     11\u001b[0m \u001b[1;33m\u001b[0m\u001b[0m\n\u001b[0;32m     12\u001b[0m \u001b[1;33m\u001b[0m\u001b[0m\n",
      "\u001b[1;31mUnsupportedOperation\u001b[0m: not writable"
     ]
    }
   ],
   "source": [
    "from scipy import spatial\n",
    "\n",
    "for row in matrix[1:]:\n",
    "    print(spatial.distance.cosine(matrix[0], row))\n",
    "    \n",
    "cos_dist = np.array([spatial.distance.cosine(matrix[0], row) for row in matrix])\n",
    "file_output = open('_output.txt', 'w+')\n",
    "\n",
    "_sorted = cos_dist.argsort()[::-1][:2]\n",
    "f.write(str(_sorted[0]) + ' ' + str(_sorted[1]) )\n",
    "\n",
    "\n"
   ]
  },
  {
   "cell_type": "code",
   "execution_count": null,
   "metadata": {
    "collapsed": true
   },
   "outputs": [],
   "source": []
  }
 ],
 "metadata": {
  "kernelspec": {
   "display_name": "Python 3",
   "language": "python",
   "name": "python3"
  },
  "language_info": {
   "codemirror_mode": {
    "name": "ipython",
    "version": 3
   },
   "file_extension": ".py",
   "mimetype": "text/x-python",
   "name": "python",
   "nbconvert_exporter": "python",
   "pygments_lexer": "ipython3",
   "version": "3.5.1"
  }
 },
 "nbformat": 4,
 "nbformat_minor": 0
}
