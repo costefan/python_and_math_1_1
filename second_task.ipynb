{
 "cells": [
  {
   "cell_type": "code",
   "execution_count": 33,
   "metadata": {
    "collapsed": true
   },
   "outputs": [],
   "source": [
    "import math, numpy\n",
    "%matplotlib inline\n",
    "from matplotlib.pyplot import plot\n",
    "\n",
    "def f(x):\n",
    "    return numpy.sin(x/5)* numpy.exp(x/10) + 5*numpy.exp(-x/2)"
   ]
  },
  {
   "cell_type": "code",
   "execution_count": 34,
   "metadata": {
    "collapsed": false
   },
   "outputs": [
    {
     "name": "stdout",
     "output_type": "stream",
     "text": [
      "3.25221686527 0.635221419579\n"
     ]
    }
   ],
   "source": [
    "print(f(1), f(15))"
   ]
  },
  {
   "cell_type": "code",
   "execution_count": 35,
   "metadata": {
    "collapsed": false
   },
   "outputs": [
    {
     "name": "stdout",
     "output_type": "stream",
     "text": [
      "[ 0 15] [ 5.          4.77634678  4.56498426  4.36533006  4.17682984  3.9989559\n",
      "  3.8312059   3.67310158  3.52418758  3.38403031  3.25221687  3.12835399\n",
      "  3.01206714  2.90299951  2.80081118  2.70517826  2.6157921   2.53235853\n",
      "  2.45459713  2.38224055  2.31503384  2.25273387  2.19510867  2.14193694\n",
      "  2.09300744  2.04811856  2.00707777  1.96970118  1.93581311  1.90524569\n",
      "  1.87783842  1.8534378   1.83189701  1.81307554  1.79683886  1.78305813\n",
      "  1.77160989  1.76237578  1.75524231  1.75010055  1.74684595  1.74537806\n",
      "  1.74560034  1.74741997  1.75074761  1.75549726  1.76158605  1.76893408\n",
      "  1.77746429  1.78710226  1.7977761   1.80941632  1.82195565  1.83532898\n",
      "  1.84947321  1.86432715  1.8798314   1.89592828  1.91256169  1.92967706\n",
      "  1.94722128  1.96514256  1.98339041  2.00191553  2.02066978  2.03960608\n",
      "  2.05867839  2.07784159  2.09705151  2.11626482  2.13543898  2.15453224\n",
      "  2.17350357  2.19231261  2.21091966  2.22928563  2.24737201  2.26514084\n",
      "  2.28255469  2.29957661  2.31617016  2.33229931  2.3479285   2.36302256\n",
      "  2.37754673  2.39146662  2.40474822  2.41735787  2.42926225  2.4404284\n",
      "  2.45082365  2.46041567  2.46917245  2.47706227  2.48405374  2.49011575\n",
      "  2.49521751  2.4993285   2.50241853  2.5044577   2.50541641  2.50526537\n",
      "  2.5039756   2.50151843  2.4978655   2.4929888   2.48686063  2.47945363\n",
      "  2.47074078  2.46069543  2.44929128  2.43650241  2.42230328  2.40666873\n",
      "  2.38957402  2.37099482  2.35090722  2.32928777  2.30611345  2.28136171\n",
      "  2.2550105   2.22703823  2.19742385  2.16614681  2.13318711  2.0985253\n",
      "  2.06214251  2.02402043  1.98414137  1.94248826  1.89904466  1.85379478\n",
      "  1.8067235   1.75781638  1.7070597   1.65444046  1.59994638  1.54356596\n",
      "  1.48528848  1.42510398  1.36300335  1.29897829  1.23302137  1.16512601\n",
      "  1.09528654  1.02349816  0.94975703  0.87406025  0.79640586  0.7167929 ]\n"
     ]
    }
   ],
   "source": [
    "x = numpy.arange(0, 15, 0.1)\n",
    "y = f(x)\n",
    "from scipy import interpolate\n",
    "\n",
    "\n",
    "f_interpolated = interpolate.interp1d(x, y, kind='linear')\n",
    "x_new = numpy.array([0, 15])\n",
    "y_new = f_interpolated(x)\n",
    "print(x_new, y_new)"
   ]
  },
  {
   "cell_type": "code",
   "execution_count": 36,
   "metadata": {
    "collapsed": false
   },
   "outputs": [],
   "source": [
    "A = numpy.array([[1, 1], [1, 15]])\n",
    "\n",
    "b = numpy.array([f(1), f(15)])\n",
    "\n",
    "from scipy import linalg\n",
    "\n",
    "W = linalg.solve(A, b)"
   ]
  },
  {
   "cell_type": "code",
   "execution_count": 37,
   "metadata": {
    "collapsed": false
   },
   "outputs": [],
   "source": [
    "A = numpy.array([[1, 1, 1, 1],\n",
    "                 [1, 4, 16, 64],\n",
    "                 [1, 10, 100, 1000],\n",
    "                 [1, 15, 225, 3375]], dtype=float)\n",
    "\n",
    "b = numpy.array([[f(1)],\n",
    "                [f(4)],\n",
    "                [f(10)],\n",
    "                [f(15)]\n",
    "                ], dtype=float)\n",
    "W = linalg.solve(A, b)"
   ]
  },
  {
   "cell_type": "code",
   "execution_count": 38,
   "metadata": {
    "collapsed": false
   },
   "outputs": [
    {
     "data": {
      "text/plain": [
       "[<matplotlib.lines.Line2D at 0x7f27622500f0>]"
      ]
     },
     "execution_count": 38,
     "metadata": {},
     "output_type": "execute_result"
    },
    {
     "data": {
      "image/png": "[encoded data removed]",
      "text/plain": [
       "<matplotlib.figure.Figure at 0x7f276226eba8>"
      ]
     },
     "metadata": {},
     "output_type": "display_data"
    }
   ],
   "source": [
    "plot(x, y, '-')"
   ]
  },
  {
   "cell_type": "code",
   "execution_count": 48,
   "metadata": {
    "collapsed": false
   },
   "outputs": [
    {
     "data": {
      "text/plain": [
       "[<matplotlib.lines.Line2D at 0x7f2761f94b38>]"
      ]
     },
     "execution_count": 48,
     "metadata": {},
     "output_type": "execute_result"
    },
    {
     "data": {
      "image/png": "[encoded data removed]",
      "text/plain": [
       "<matplotlib.figure.Figure at 0x7f276207d2e8>"
      ]
     },
     "metadata": {},
     "output_type": "display_data"
    }
   ],
   "source": [
    "plot(x, numpy.fromiter(map(lambda x: W[0] + x * W[1] + x**2 * W[2] + x**3*W[3], x), dtype=numpy.float), '-')"
   ]
  },
  {
   "cell_type": "code",
   "execution_count": null,
   "metadata": {
    "collapsed": true
   },
   "outputs": [],
   "source": []
  }
 ],
 "metadata": {
  "kernelspec": {
   "display_name": "Python 3",
   "language": "python",
   "name": "python3"
  },
  "language_info": {
   "codemirror_mode": {
    "name": "ipython",
    "version": 3
   },
   "file_extension": ".py",
   "mimetype": "text/x-python",
   "name": "python",
   "nbconvert_exporter": "python",
   "pygments_lexer": "ipython3",
   "version": "3.5.1"
  }
 },
 "nbformat": 4,
 "nbformat_minor": 0
}
